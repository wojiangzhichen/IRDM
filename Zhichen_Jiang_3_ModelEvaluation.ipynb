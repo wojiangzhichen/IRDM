{
 "cells": [
  {
   "cell_type": "code",
   "execution_count": 1,
   "metadata": {
    "collapsed": true
   },
   "outputs": [],
   "source": [
    "import os"
   ]
  },
  {
   "cell_type": "code",
   "execution_count": 2,
   "metadata": {
    "collapsed": true
   },
   "outputs": [],
   "source": [
    "os.chdir(\"D:\\IRDM\")"
   ]
  },
  {
   "cell_type": "markdown",
   "metadata": {
    "collapsed": true
   },
   "source": [
    "### Evaluation"
   ]
  },
  {
   "cell_type": "code",
   "execution_count": 6,
   "metadata": {
    "collapsed": true
   },
   "outputs": [],
   "source": [
    "import pandas as pd\n",
    "import numpy as np\n",
    "import matplotlib.pyplot as plt\n",
    "import math"
   ]
  },
  {
   "cell_type": "code",
   "execution_count": 8,
   "metadata": {
    "collapsed": true
   },
   "outputs": [],
   "source": [
    "from sklearn.metrics import mean_squared_error\n",
    "from sklearn.metrics import mean_absolute_error\n",
    "from sklearn.metrics import median_absolute_error"
   ]
  },
  {
   "cell_type": "markdown",
   "metadata": {},
   "source": [
    "#### XGBoost"
   ]
  },
  {
   "cell_type": "code",
   "execution_count": 11,
   "metadata": {
    "collapsed": false
   },
   "outputs": [
    {
     "data": {
      "text/plain": [
       "(0.4875963258115359, 0.38891974539329932)"
      ]
     },
     "execution_count": 11,
     "metadata": {},
     "output_type": "execute_result"
    }
   ],
   "source": [
    "df_solution = pd.read_csv('solution.csv')\n",
    "df_xgb = pd.read_csv('xgboost.csv')\n",
    "df_solution = pd.merge(df_solution, df_xgb, how='left', on='id')\n",
    "df_solution = df_solution[df_solution['Usage'] =='Public']\n",
    "\n",
    "mae_xg = mean_absolute_error(df_solution.iloc[:,1], df_solution.iloc[:,3])\n",
    "rmse_xg = math.sqrt(mean_squared_error(df_solution.iloc[:,1], df_solution.iloc[:,3]))\n",
    "rmse_xg, mae_xg"
   ]
  },
  {
   "cell_type": "markdown",
   "metadata": {},
   "source": [
    "#### Random Forest"
   ]
  },
  {
   "cell_type": "code",
   "execution_count": 12,
   "metadata": {
    "collapsed": false
   },
   "outputs": [
    {
     "data": {
      "text/plain": [
       "(0.5014717794107864, 0.40119616727433688)"
      ]
     },
     "execution_count": 12,
     "metadata": {},
     "output_type": "execute_result"
    }
   ],
   "source": [
    "df_solution = pd.read_csv('solution.csv')\n",
    "df_rf = pd.read_csv('rand_forest.csv')\n",
    "df_solution = pd.merge(df_solution, df_rf, how='left', on='id')\n",
    "df_solution = df_solution[df_solution['Usage'] =='Public']\n",
    "\n",
    "mae_rf = mean_absolute_error(df_solution.iloc[:,1], df_solution.iloc[:,3])\n",
    "rmse_rf = math.sqrt(mean_squared_error(df_solution.iloc[:,1], df_solution.iloc[:,3]))\n",
    "rmse_rf, mae_rf"
   ]
  },
  {
   "cell_type": "markdown",
   "metadata": {},
   "source": [
    "#### Gradient Boost"
   ]
  },
  {
   "cell_type": "code",
   "execution_count": 13,
   "metadata": {
    "collapsed": false
   },
   "outputs": [
    {
     "data": {
      "text/plain": [
       "(0.4751135789135695, 0.38169172078990804)"
      ]
     },
     "execution_count": 13,
     "metadata": {},
     "output_type": "execute_result"
    }
   ],
   "source": [
    "df_solution = pd.read_csv('solution.csv')\n",
    "df_gb = pd.read_csv('grad_boost.csv')\n",
    "df_solution = pd.merge(df_solution, df_gb, how='left', on='id')\n",
    "df_solution = df_solution[df_solution['Usage'] =='Public']\n",
    "\n",
    "mae_gb = mean_absolute_error(df_solution.iloc[:,1], df_solution.iloc[:,3])\n",
    "rmse_gb = math.sqrt(mean_squared_error(df_solution.iloc[:,1], df_solution.iloc[:,3]))\n",
    "rmse_gb, mae_gb"
   ]
  },
  {
   "cell_type": "markdown",
   "metadata": {},
   "source": [
    "#### KNN"
   ]
  },
  {
   "cell_type": "code",
   "execution_count": 14,
   "metadata": {
    "collapsed": false
   },
   "outputs": [
    {
     "data": {
      "text/plain": [
       "(0.5203234401851281, 0.41257513076557301)"
      ]
     },
     "execution_count": 14,
     "metadata": {},
     "output_type": "execute_result"
    }
   ],
   "source": [
    "df_solution = pd.read_csv('solution.csv')\n",
    "df_knn = pd.read_csv('knn.csv')\n",
    "df_solution = pd.merge(df_solution, df_knn, how='left', on='id')\n",
    "df_solution = df_solution[df_solution['Usage'] =='Public']\n",
    "\n",
    "mae_knn = mean_absolute_error(df_solution.iloc[:,1], df_solution.iloc[:,3])\n",
    "rmse_knn = math.sqrt(mean_squared_error(df_solution.iloc[:,1], df_solution.iloc[:,3]))\n",
    "rmse_knn, mae_knn"
   ]
  },
  {
   "cell_type": "markdown",
   "metadata": {},
   "source": [
    "#### SVM"
   ]
  },
  {
   "cell_type": "code",
   "execution_count": 15,
   "metadata": {
    "collapsed": false
   },
   "outputs": [
    {
     "data": {
      "text/plain": [
       "(0.4899446104634989, 0.38441067540480878)"
      ]
     },
     "execution_count": 15,
     "metadata": {},
     "output_type": "execute_result"
    }
   ],
   "source": [
    "df_solution = pd.read_csv('solution.csv')\n",
    "df_svm = pd.read_csv('svm.csv')\n",
    "df_solution = pd.merge(df_solution, df_svm, how='left', on='id')\n",
    "df_solution = df_solution[df_solution['Usage'] =='Public']\n",
    "\n",
    "mae_sv = mean_absolute_error(df_solution.iloc[:,1], df_solution.iloc[:,3])\n",
    "rmse_sv = math.sqrt(mean_squared_error(df_solution.iloc[:,1], df_solution.iloc[:,3]))\n",
    "rmse_sv, mae_sv"
   ]
  },
  {
   "cell_type": "code",
   "execution_count": null,
   "metadata": {
    "collapsed": true
   },
   "outputs": [],
   "source": []
  },
  {
   "cell_type": "markdown",
   "metadata": {},
   "source": [
    "### Outcome distribution"
   ]
  },
  {
   "cell_type": "code",
   "execution_count": 20,
   "metadata": {
    "collapsed": false
   },
   "outputs": [],
   "source": [
    "test_y_rf = df_rf.values[:,1]\n",
    "test_y_knn = df_knn.values[:,1]\n",
    "test_y_grad_boost = df_gb.values[:,1]\n",
    "test_y_xgb = df_xgb.values[:,1]\n",
    "test_y_svm = df_svm.values[:,1]"
   ]
  },
  {
   "cell_type": "code",
   "execution_count": 25,
   "metadata": {
    "collapsed": false
   },
   "outputs": [
    {
     "name": "stdout",
     "output_type": "stream",
     "text": [
      "Populating the interactive namespace from numpy and matplotlib\n"
     ]
    },
    {
     "data": {
      "text/plain": [
       "<matplotlib.text.Text at 0x1fa90e89390>"
      ]
     },
     "execution_count": 25,
     "metadata": {},
     "output_type": "execute_result"
    },
    {
     "data": {
      "image/png": "[encoded data removed]",
      "text/plain": [
       "<matplotlib.figure.Figure at 0x1fa8f465400>"
      ]
     },
     "metadata": {},
     "output_type": "display_data"
    }
   ],
   "source": [
    "% pylab inline\n",
    "rcParams['figure.figsize'] = (12.0, 6.0)\n",
    "data=[test_y_rf,test_y_knn, test_y_grad_boost, test_y_xgb, test_y_svm]\n",
    "plt.figure()\n",
    "plt.boxplot(data)\n",
    "plt.xticks([1,2,3,4,5],('random forest', 'knn', 'gradient boost', 'xgboost', 'svm'))\n",
    "plt.title('Individual model - relevance score distribution of five machine learning algorithms')"
   ]
  },
  {
   "cell_type": "code",
   "execution_count": 24,
   "metadata": {
    "collapsed": false
   },
   "outputs": [
    {
     "data": {
      "image/png": "[encoded data removed]",
      "text/plain": [
       "<matplotlib.figure.Figure at 0x1fa925813c8>"
      ]
     },
     "metadata": {},
     "output_type": "display_data"
    }
   ],
   "source": [
    "# data to plot\n",
    "n_groups = 5\n",
    "means_frank = (rmse_rf, rmse_knn, rmse_gb, rmse_xg, rmse_sv)\n",
    "means_guido = (mae_rf, mae_knn, mae_gb, mae_xg, mae_sv)\n",
    " \n",
    "# create plot\n",
    "fig, ax = plt.subplots()\n",
    "index = np.arange(n_groups)\n",
    "bar_width = 0.4\n",
    "opacity = 0.7\n",
    " \n",
    "rects1 = plt.bar(index, means_frank, bar_width,\n",
    "                 alpha=opacity,\n",
    "                 color='b',\n",
    "                 label='rmse')\n",
    " \n",
    "rects2 = plt.bar(index + bar_width, means_guido, bar_width,\n",
    "                 alpha=opacity,\n",
    "                 color='g',\n",
    "                 label='mae')\n",
    " \n",
    "#plt.xlabel('Scores')\n",
    "plt.ylabel('Error')\n",
    "plt.title('Individual scores by model')\n",
    "plt.xticks(index + bar_width, ('random forest', 'knn', 'gradient boost', 'xgboost', 'svm'))\n",
    "plt.legend()\n",
    " \n",
    "plt.tight_layout()\n",
    "plt.show()\n",
    "plt.show()"
   ]
  },
  {
   "cell_type": "code",
   "execution_count": null,
   "metadata": {
    "collapsed": true
   },
   "outputs": [],
   "source": []
  }
 ],
 "metadata": {
  "kernelspec": {
   "display_name": "Python [conda root]",
   "language": "python",
   "name": "conda-root-py"
  },
  "language_info": {
   "codemirror_mode": {
    "name": "ipython",
    "version": 3
   },
   "file_extension": ".py",
   "mimetype": "text/x-python",
   "name": "python",
   "nbconvert_exporter": "python",
   "pygments_lexer": "ipython3",
   "version": "3.5.2"
  }
 },
 "nbformat": 4,
 "nbformat_minor": 1
}
