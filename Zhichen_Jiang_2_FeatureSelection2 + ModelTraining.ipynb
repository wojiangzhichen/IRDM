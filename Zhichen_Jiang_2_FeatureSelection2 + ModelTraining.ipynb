{
 "cells": [
  {
   "cell_type": "code",
   "execution_count": 2,
   "metadata": {
    "collapsed": false
   },
   "outputs": [
    {
     "name": "stderr",
     "output_type": "stream",
     "text": [
      "D:\\Anaconda3\\lib\\site-packages\\sklearn\\cross_validation.py:44: DeprecationWarning: This module was deprecated in version 0.18 in favor of the model_selection module into which all the refactored classes and functions are moved. Also note that the interface of the new CV iterators are different from that of this module. This module will be removed in 0.20.\n",
      "  \"This module will be removed in 0.20.\", DeprecationWarning)\n"
     ]
    }
   ],
   "source": [
    "import pandas as pd\n",
    "import numpy as np\n",
    "import time\n",
    "import datetime\n",
    "import xgboost as xgb\n",
    "from sklearn.linear_model import LassoCV, RidgeCV\n",
    "from sklearn.ensemble import RandomForestRegressor\n",
    "from sklearn.svm import SVR\n",
    "from sklearn.ensemble import GradientBoostingRegressor\n",
    "from sklearn.neighbors import KNeighborsRegressor"
   ]
  },
  {
   "cell_type": "code",
   "execution_count": 3,
   "metadata": {
    "collapsed": true
   },
   "outputs": [],
   "source": [
    "from difflib import SequenceMatcher"
   ]
  },
  {
   "cell_type": "code",
   "execution_count": 4,
   "metadata": {
    "collapsed": true
   },
   "outputs": [],
   "source": [
    "from collections import Counter"
   ]
  },
  {
   "cell_type": "code",
   "execution_count": 5,
   "metadata": {
    "collapsed": true
   },
   "outputs": [],
   "source": [
    "from nltk.tokenize import word_tokenize"
   ]
  },
  {
   "cell_type": "code",
   "execution_count": 6,
   "metadata": {
    "collapsed": true
   },
   "outputs": [],
   "source": [
    "import re, math"
   ]
  },
  {
   "cell_type": "code",
   "execution_count": 7,
   "metadata": {
    "collapsed": true
   },
   "outputs": [],
   "source": [
    "import os"
   ]
  },
  {
   "cell_type": "code",
   "execution_count": 8,
   "metadata": {
    "collapsed": true
   },
   "outputs": [],
   "source": [
    "os.chdir(\"D:\\IRDM\")"
   ]
  },
  {
   "cell_type": "code",
   "execution_count": 9,
   "metadata": {
    "collapsed": false
   },
   "outputs": [],
   "source": [
    "df_all = pd.read_csv('df_all.csv', encoding=\"ISO-8859-1\")"
   ]
  },
  {
   "cell_type": "code",
   "execution_count": 10,
   "metadata": {
    "collapsed": false
   },
   "outputs": [
    {
     "data": {
      "text/plain": [
       "(240760, 26)"
      ]
     },
     "execution_count": 10,
     "metadata": {},
     "output_type": "execute_result"
    }
   ],
   "source": [
    "df_all.shape"
   ]
  },
  {
   "cell_type": "code",
   "execution_count": 11,
   "metadata": {
    "collapsed": true
   },
   "outputs": [],
   "source": [
    "def string_similarity(str1, str2):\n",
    "    str1=str(str1)\n",
    "    str2=str(str2)\n",
    "    return SequenceMatcher(None, str1, str2).ratio()\n",
    "\n",
    "def cosine_similarity(query, doc):\n",
    "    query, doc = str(query), str(doc)\n",
    "    WORD = re.compile(r'\\w+')\n",
    "    query, doc = Counter(WORD.findall(query)), Counter(WORD.findall(doc))\n",
    "    intersection = set(query.keys()) & set(doc.keys())\n",
    "    numerator = sum([query[x] * doc[x] for x in intersection])\n",
    "    sum1 = sum([query[x]**2 for x in query.keys()])\n",
    "    sum2 = sum([doc[x]**2 for x in doc.keys()])\n",
    "    denominator = math.sqrt(sum1) * math.sqrt(sum2)\n",
    "    if not denominator:\n",
    "        return 0.0\n",
    "    else:\n",
    "        return float(numerator) / denominator"
   ]
  },
  {
   "cell_type": "code",
   "execution_count": 12,
   "metadata": {
    "collapsed": false
   },
   "outputs": [
    {
     "name": "stdout",
     "output_type": "stream",
     "text": [
      "5 features generated\n"
     ]
    }
   ],
   "source": [
    "df_all['similarity_ratio_query_and_product_descrip'] = df_all.apply(lambda x: string_similarity(x['search_term'], x['product_description']), axis = 1)\n",
    "df_all['similarity_ratio_query_and_product_title'] = df_all.apply(lambda x: string_similarity(x['search_term'], x['product_title']), axis = 1)\n",
    "df_all['similarity_ratio_query_and_product_info'] = df_all.apply(lambda x: string_similarity(x['search_term'], x['product_info']), axis = 1)\n",
    "df_all['similarity_ratio_query_and_product_attr'] = df_all.apply(lambda x: string_similarity(x['search_term'], x['attr']), axis = 1)\n",
    "df_all['similarity_ratio_query_and_brand'] = df_all.apply(lambda x: string_similarity(x['search_term'], x['brand']), axis = 1)\n",
    "print('5 features generated')"
   ]
  },
  {
   "cell_type": "code",
   "execution_count": 13,
   "metadata": {
    "collapsed": false
   },
   "outputs": [
    {
     "name": "stdout",
     "output_type": "stream",
     "text": [
      "5 features generated\n"
     ]
    }
   ],
   "source": [
    "df_all['cosine_similarity_query_and_product_descrip'] = df_all.apply(lambda x: cosine_similarity(x['search_term'], x['product_description']), axis = 1)\n",
    "df_all['cosine_similarity_query_and_product_title'] = df_all.apply(lambda x: cosine_similarity(x['search_term'], x['product_title']), axis = 1)\n",
    "df_all['cosine_similarity_query_and_product_info'] = df_all.apply(lambda x: cosine_similarity(x['search_term'], x['product_info']), axis = 1)\n",
    "df_all['cosine_similarity_query_and_product_attr'] = df_all.apply(lambda x: cosine_similarity(x['search_term'], x['attr']), axis = 1)\n",
    "df_all['cosine_similarity_query_and_brand'] = df_all.apply(lambda x: cosine_similarity(x['search_term'], x['brand']), axis = 1)\n",
    "print('5 features generated')"
   ]
  },
  {
   "cell_type": "code",
   "execution_count": 14,
   "metadata": {
    "collapsed": false
   },
   "outputs": [
    {
     "data": {
      "text/plain": [
       "Index(['Unnamed: 0', 'id', 'product_title', 'product_uid', 'relevance',\n",
       "       'search_term', 'product_description', 'brand', 'product_info',\n",
       "       'len_of_query', 'len_of_title', 'len_of_description', 'len_of_brand',\n",
       "       'query_in_title', 'query_in_description', 'query_last_word_in_title',\n",
       "       'query_last_word_in_description', 'word_in_title',\n",
       "       'word_in_description', 'ratio_title', 'ratio_description', 'attr',\n",
       "       'word_in_brand', 'ratio_brand', 'brand_feature', 'search_term_feature',\n",
       "       'similarity_ratio_query_and_product_descrip',\n",
       "       'similarity_ratio_query_and_product_title',\n",
       "       'similarity_ratio_query_and_product_info',\n",
       "       'similarity_ratio_query_and_product_attr',\n",
       "       'similarity_ratio_query_and_brand',\n",
       "       'cosine_similarity_query_and_product_descrip',\n",
       "       'cosine_similarity_query_and_product_title',\n",
       "       'cosine_similarity_query_and_product_info',\n",
       "       'cosine_similarity_query_and_product_attr',\n",
       "       'cosine_similarity_query_and_brand'],\n",
       "      dtype='object')"
      ]
     },
     "execution_count": 14,
     "metadata": {},
     "output_type": "execute_result"
    }
   ],
   "source": [
    "df_all.columns"
   ]
  },
  {
   "cell_type": "code",
   "execution_count": 15,
   "metadata": {
    "collapsed": false
   },
   "outputs": [
    {
     "data": {
      "text/html": [
       "<div>\n",
       "<table border=\"1\" class=\"dataframe\">\n",
       "  <thead>\n",
       "    <tr style=\"text-align: right;\">\n",
       "      <th></th>\n",
       "      <th>Unnamed: 0</th>\n",
       "      <th>id</th>\n",
       "      <th>product_title</th>\n",
       "      <th>product_uid</th>\n",
       "      <th>relevance</th>\n",
       "      <th>search_term</th>\n",
       "      <th>product_description</th>\n",
       "      <th>brand</th>\n",
       "      <th>product_info</th>\n",
       "      <th>len_of_query</th>\n",
       "      <th>...</th>\n",
       "      <th>similarity_ratio_query_and_product_descrip</th>\n",
       "      <th>similarity_ratio_query_and_product_title</th>\n",
       "      <th>similarity_ratio_query_and_product_info</th>\n",
       "      <th>similarity_ratio_query_and_product_attr</th>\n",
       "      <th>similarity_ratio_query_and_brand</th>\n",
       "      <th>cosine_similarity_query_and_product_descrip</th>\n",
       "      <th>cosine_similarity_query_and_product_title</th>\n",
       "      <th>cosine_similarity_query_and_product_info</th>\n",
       "      <th>cosine_similarity_query_and_product_attr</th>\n",
       "      <th>cosine_similarity_query_and_brand</th>\n",
       "    </tr>\n",
       "  </thead>\n",
       "  <tbody>\n",
       "    <tr>\n",
       "      <th>0</th>\n",
       "      <td>0</td>\n",
       "      <td>2</td>\n",
       "      <td>simpson strong tie 12 gaug angl</td>\n",
       "      <td>100001</td>\n",
       "      <td>3.00</td>\n",
       "      <td>angl bracket</td>\n",
       "      <td>not onli do angl make joint stronger they also...</td>\n",
       "      <td>simpson strong tie</td>\n",
       "      <td>angl bracket\\tsimpson strong tie 12 gaug angl\\...</td>\n",
       "      <td>2</td>\n",
       "      <td>...</td>\n",
       "      <td>0.007712</td>\n",
       "      <td>0.186047</td>\n",
       "      <td>0.029162</td>\n",
       "      <td>0.558140</td>\n",
       "      <td>0.266667</td>\n",
       "      <td>0.138972</td>\n",
       "      <td>0.288675</td>\n",
       "      <td>0.259645</td>\n",
       "      <td>0.632456</td>\n",
       "      <td>0.0</td>\n",
       "    </tr>\n",
       "    <tr>\n",
       "      <th>1</th>\n",
       "      <td>1</td>\n",
       "      <td>3</td>\n",
       "      <td>simpson strong tie 12 gaug angl</td>\n",
       "      <td>100001</td>\n",
       "      <td>2.50</td>\n",
       "      <td>l bracket</td>\n",
       "      <td>not onli do angl make joint stronger they also...</td>\n",
       "      <td>simpson strong tie</td>\n",
       "      <td>l bracket\\tsimpson strong tie 12 gaug angl\\tno...</td>\n",
       "      <td>2</td>\n",
       "      <td>...</td>\n",
       "      <td>0.007742</td>\n",
       "      <td>0.050000</td>\n",
       "      <td>0.022032</td>\n",
       "      <td>0.486486</td>\n",
       "      <td>0.222222</td>\n",
       "      <td>0.000000</td>\n",
       "      <td>0.000000</td>\n",
       "      <td>0.087875</td>\n",
       "      <td>0.632456</td>\n",
       "      <td>0.0</td>\n",
       "    </tr>\n",
       "    <tr>\n",
       "      <th>2</th>\n",
       "      <td>2</td>\n",
       "      <td>9</td>\n",
       "      <td>behr premium textur deckov 1gal. #sc 141 tugbo...</td>\n",
       "      <td>100002</td>\n",
       "      <td>3.00</td>\n",
       "      <td>deck over</td>\n",
       "      <td>behr premium textur deckov is an innov solid c...</td>\n",
       "      <td>behr premium textur deckov</td>\n",
       "      <td>deck over\\tbehr premium textur deckov 1gal. #s...</td>\n",
       "      <td>2</td>\n",
       "      <td>...</td>\n",
       "      <td>0.008239</td>\n",
       "      <td>0.177215</td>\n",
       "      <td>0.017110</td>\n",
       "      <td>0.400000</td>\n",
       "      <td>0.342857</td>\n",
       "      <td>0.108253</td>\n",
       "      <td>0.000000</td>\n",
       "      <td>0.166298</td>\n",
       "      <td>0.577350</td>\n",
       "      <td>0.0</td>\n",
       "    </tr>\n",
       "    <tr>\n",
       "      <th>3</th>\n",
       "      <td>3</td>\n",
       "      <td>16</td>\n",
       "      <td>delta vero 1 handl shower onli faucet trim kit...</td>\n",
       "      <td>100005</td>\n",
       "      <td>2.33</td>\n",
       "      <td>rain shower head</td>\n",
       "      <td>updat your bathroom with the delta vero singl ...</td>\n",
       "      <td>delta</td>\n",
       "      <td>rain shower head\\tdelta vero 1 handl shower on...</td>\n",
       "      <td>3</td>\n",
       "      <td>...</td>\n",
       "      <td>0.000000</td>\n",
       "      <td>0.326087</td>\n",
       "      <td>0.043302</td>\n",
       "      <td>0.842105</td>\n",
       "      <td>0.095238</td>\n",
       "      <td>0.039103</td>\n",
       "      <td>0.154303</td>\n",
       "      <td>0.172825</td>\n",
       "      <td>0.866025</td>\n",
       "      <td>0.0</td>\n",
       "    </tr>\n",
       "    <tr>\n",
       "      <th>4</th>\n",
       "      <td>4</td>\n",
       "      <td>17</td>\n",
       "      <td>delta vero 1 handl shower onli faucet trim kit...</td>\n",
       "      <td>100005</td>\n",
       "      <td>2.67</td>\n",
       "      <td>shower onli faucet</td>\n",
       "      <td>updat your bathroom with the delta vero singl ...</td>\n",
       "      <td>delta</td>\n",
       "      <td>shower onli faucet\\tdelta vero 1 handl shower ...</td>\n",
       "      <td>3</td>\n",
       "      <td>...</td>\n",
       "      <td>0.000000</td>\n",
       "      <td>0.382979</td>\n",
       "      <td>0.048452</td>\n",
       "      <td>0.857143</td>\n",
       "      <td>0.260870</td>\n",
       "      <td>0.117309</td>\n",
       "      <td>0.462910</td>\n",
       "      <td>0.306719</td>\n",
       "      <td>0.866025</td>\n",
       "      <td>0.0</td>\n",
       "    </tr>\n",
       "  </tbody>\n",
       "</table>\n",
       "<p>5 rows × 36 columns</p>\n",
       "</div>"
      ],
      "text/plain": [
       "   Unnamed: 0  id                                      product_title  \\\n",
       "0           0   2                    simpson strong tie 12 gaug angl   \n",
       "1           1   3                    simpson strong tie 12 gaug angl   \n",
       "2           2   9  behr premium textur deckov 1gal. #sc 141 tugbo...   \n",
       "3           3  16  delta vero 1 handl shower onli faucet trim kit...   \n",
       "4           4  17  delta vero 1 handl shower onli faucet trim kit...   \n",
       "\n",
       "   product_uid  relevance         search_term  \\\n",
       "0       100001       3.00        angl bracket   \n",
       "1       100001       2.50           l bracket   \n",
       "2       100002       3.00           deck over   \n",
       "3       100005       2.33    rain shower head   \n",
       "4       100005       2.67  shower onli faucet   \n",
       "\n",
       "                                 product_description  \\\n",
       "0  not onli do angl make joint stronger they also...   \n",
       "1  not onli do angl make joint stronger they also...   \n",
       "2  behr premium textur deckov is an innov solid c...   \n",
       "3  updat your bathroom with the delta vero singl ...   \n",
       "4  updat your bathroom with the delta vero singl ...   \n",
       "\n",
       "                        brand  \\\n",
       "0          simpson strong tie   \n",
       "1          simpson strong tie   \n",
       "2  behr premium textur deckov   \n",
       "3                       delta   \n",
       "4                       delta   \n",
       "\n",
       "                                        product_info  len_of_query  \\\n",
       "0  angl bracket\\tsimpson strong tie 12 gaug angl\\...             2   \n",
       "1  l bracket\\tsimpson strong tie 12 gaug angl\\tno...             2   \n",
       "2  deck over\\tbehr premium textur deckov 1gal. #s...             2   \n",
       "3  rain shower head\\tdelta vero 1 handl shower on...             3   \n",
       "4  shower onli faucet\\tdelta vero 1 handl shower ...             3   \n",
       "\n",
       "                 ...                  \\\n",
       "0                ...                   \n",
       "1                ...                   \n",
       "2                ...                   \n",
       "3                ...                   \n",
       "4                ...                   \n",
       "\n",
       "   similarity_ratio_query_and_product_descrip  \\\n",
       "0                                    0.007712   \n",
       "1                                    0.007742   \n",
       "2                                    0.008239   \n",
       "3                                    0.000000   \n",
       "4                                    0.000000   \n",
       "\n",
       "   similarity_ratio_query_and_product_title  \\\n",
       "0                                  0.186047   \n",
       "1                                  0.050000   \n",
       "2                                  0.177215   \n",
       "3                                  0.326087   \n",
       "4                                  0.382979   \n",
       "\n",
       "   similarity_ratio_query_and_product_info  \\\n",
       "0                                 0.029162   \n",
       "1                                 0.022032   \n",
       "2                                 0.017110   \n",
       "3                                 0.043302   \n",
       "4                                 0.048452   \n",
       "\n",
       "   similarity_ratio_query_and_product_attr  similarity_ratio_query_and_brand  \\\n",
       "0                                 0.558140                          0.266667   \n",
       "1                                 0.486486                          0.222222   \n",
       "2                                 0.400000                          0.342857   \n",
       "3                                 0.842105                          0.095238   \n",
       "4                                 0.857143                          0.260870   \n",
       "\n",
       "   cosine_similarity_query_and_product_descrip  \\\n",
       "0                                     0.138972   \n",
       "1                                     0.000000   \n",
       "2                                     0.108253   \n",
       "3                                     0.039103   \n",
       "4                                     0.117309   \n",
       "\n",
       "   cosine_similarity_query_and_product_title  \\\n",
       "0                                   0.288675   \n",
       "1                                   0.000000   \n",
       "2                                   0.000000   \n",
       "3                                   0.154303   \n",
       "4                                   0.462910   \n",
       "\n",
       "   cosine_similarity_query_and_product_info  \\\n",
       "0                                  0.259645   \n",
       "1                                  0.087875   \n",
       "2                                  0.166298   \n",
       "3                                  0.172825   \n",
       "4                                  0.306719   \n",
       "\n",
       "   cosine_similarity_query_and_product_attr  cosine_similarity_query_and_brand  \n",
       "0                                  0.632456                                0.0  \n",
       "1                                  0.632456                                0.0  \n",
       "2                                  0.577350                                0.0  \n",
       "3                                  0.866025                                0.0  \n",
       "4                                  0.866025                                0.0  \n",
       "\n",
       "[5 rows x 36 columns]"
      ]
     },
     "execution_count": 15,
     "metadata": {},
     "output_type": "execute_result"
    }
   ],
   "source": [
    "df_all.head()"
   ]
  },
  {
   "cell_type": "code",
   "execution_count": 16,
   "metadata": {
    "collapsed": false
   },
   "outputs": [
    {
     "data": {
      "text/plain": [
       "(240760, 36)"
      ]
     },
     "execution_count": 16,
     "metadata": {},
     "output_type": "execute_result"
    }
   ],
   "source": [
    "df_all.shape"
   ]
  },
  {
   "cell_type": "code",
   "execution_count": 17,
   "metadata": {
    "collapsed": true
   },
   "outputs": [],
   "source": [
    "def normalisation(df):\n",
    "    df_norm = (df - df.min()) / (df.max() - df.min())\n",
    "    return df_norm"
   ]
  },
  {
   "cell_type": "code",
   "execution_count": 18,
   "metadata": {
    "collapsed": true
   },
   "outputs": [],
   "source": [
    "def create_result(prediction, info):\n",
    "    result = pd.DataFrame()\n",
    "    result['id'] = df_all['id'][num_train:].astype(str)\n",
    "    prediction[prediction > 3.0] = 3.0\n",
    "    prediction[prediction < 1.0 ] = 1.0\n",
    "    result['relevance'] = prediction\n",
    "    result.to_csv(info, index = False)"
   ]
  },
  {
   "cell_type": "code",
   "execution_count": 19,
   "metadata": {
    "collapsed": false
   },
   "outputs": [],
   "source": [
    "df_all_copy = df_all.copy()"
   ]
  },
  {
   "cell_type": "code",
   "execution_count": 20,
   "metadata": {
    "collapsed": true
   },
   "outputs": [],
   "source": [
    "df_all.drop(['Unnamed: 0', 'attr',], axis = 1, inplace = True)"
   ]
  },
  {
   "cell_type": "code",
   "execution_count": 21,
   "metadata": {
    "collapsed": false
   },
   "outputs": [
    {
     "data": {
      "text/plain": [
       "Index(['id', 'product_title', 'product_uid', 'relevance', 'search_term',\n",
       "       'product_description', 'brand', 'product_info', 'len_of_query',\n",
       "       'len_of_title', 'len_of_description', 'len_of_brand', 'query_in_title',\n",
       "       'query_in_description', 'query_last_word_in_title',\n",
       "       'query_last_word_in_description', 'word_in_title',\n",
       "       'word_in_description', 'ratio_title', 'ratio_description',\n",
       "       'word_in_brand', 'ratio_brand', 'brand_feature', 'search_term_feature',\n",
       "       'similarity_ratio_query_and_product_descrip',\n",
       "       'similarity_ratio_query_and_product_title',\n",
       "       'similarity_ratio_query_and_product_info',\n",
       "       'similarity_ratio_query_and_product_attr',\n",
       "       'similarity_ratio_query_and_brand',\n",
       "       'cosine_similarity_query_and_product_descrip',\n",
       "       'cosine_similarity_query_and_product_title',\n",
       "       'cosine_similarity_query_and_product_info',\n",
       "       'cosine_similarity_query_and_product_attr',\n",
       "       'cosine_similarity_query_and_brand'],\n",
       "      dtype='object')"
      ]
     },
     "execution_count": 21,
     "metadata": {},
     "output_type": "execute_result"
    }
   ],
   "source": [
    "df_all.columns"
   ]
  },
  {
   "cell_type": "code",
   "execution_count": 22,
   "metadata": {
    "collapsed": false
   },
   "outputs": [
    {
     "data": {
      "text/html": [
       "<div>\n",
       "<table border=\"1\" class=\"dataframe\">\n",
       "  <thead>\n",
       "    <tr style=\"text-align: right;\">\n",
       "      <th></th>\n",
       "      <th>id</th>\n",
       "      <th>product_title</th>\n",
       "      <th>product_uid</th>\n",
       "      <th>relevance</th>\n",
       "      <th>search_term</th>\n",
       "      <th>product_description</th>\n",
       "      <th>brand</th>\n",
       "      <th>product_info</th>\n",
       "      <th>len_of_query</th>\n",
       "      <th>len_of_title</th>\n",
       "      <th>...</th>\n",
       "      <th>similarity_ratio_query_and_product_descrip</th>\n",
       "      <th>similarity_ratio_query_and_product_title</th>\n",
       "      <th>similarity_ratio_query_and_product_info</th>\n",
       "      <th>similarity_ratio_query_and_product_attr</th>\n",
       "      <th>similarity_ratio_query_and_brand</th>\n",
       "      <th>cosine_similarity_query_and_product_descrip</th>\n",
       "      <th>cosine_similarity_query_and_product_title</th>\n",
       "      <th>cosine_similarity_query_and_product_info</th>\n",
       "      <th>cosine_similarity_query_and_product_attr</th>\n",
       "      <th>cosine_similarity_query_and_brand</th>\n",
       "    </tr>\n",
       "  </thead>\n",
       "  <tbody>\n",
       "    <tr>\n",
       "      <th>0</th>\n",
       "      <td>2</td>\n",
       "      <td>simpson strong tie 12 gaug angl</td>\n",
       "      <td>100001</td>\n",
       "      <td>3.00</td>\n",
       "      <td>angl bracket</td>\n",
       "      <td>not onli do angl make joint stronger they also...</td>\n",
       "      <td>simpson strong tie</td>\n",
       "      <td>angl bracket\\tsimpson strong tie 12 gaug angl\\...</td>\n",
       "      <td>2</td>\n",
       "      <td>6</td>\n",
       "      <td>...</td>\n",
       "      <td>0.007712</td>\n",
       "      <td>0.186047</td>\n",
       "      <td>0.029162</td>\n",
       "      <td>0.558140</td>\n",
       "      <td>0.266667</td>\n",
       "      <td>0.138972</td>\n",
       "      <td>0.288675</td>\n",
       "      <td>0.259645</td>\n",
       "      <td>0.632456</td>\n",
       "      <td>0.0</td>\n",
       "    </tr>\n",
       "    <tr>\n",
       "      <th>1</th>\n",
       "      <td>3</td>\n",
       "      <td>simpson strong tie 12 gaug angl</td>\n",
       "      <td>100001</td>\n",
       "      <td>2.50</td>\n",
       "      <td>l bracket</td>\n",
       "      <td>not onli do angl make joint stronger they also...</td>\n",
       "      <td>simpson strong tie</td>\n",
       "      <td>l bracket\\tsimpson strong tie 12 gaug angl\\tno...</td>\n",
       "      <td>2</td>\n",
       "      <td>6</td>\n",
       "      <td>...</td>\n",
       "      <td>0.007742</td>\n",
       "      <td>0.050000</td>\n",
       "      <td>0.022032</td>\n",
       "      <td>0.486486</td>\n",
       "      <td>0.222222</td>\n",
       "      <td>0.000000</td>\n",
       "      <td>0.000000</td>\n",
       "      <td>0.087875</td>\n",
       "      <td>0.632456</td>\n",
       "      <td>0.0</td>\n",
       "    </tr>\n",
       "    <tr>\n",
       "      <th>2</th>\n",
       "      <td>9</td>\n",
       "      <td>behr premium textur deckov 1gal. #sc 141 tugbo...</td>\n",
       "      <td>100002</td>\n",
       "      <td>3.00</td>\n",
       "      <td>deck over</td>\n",
       "      <td>behr premium textur deckov is an innov solid c...</td>\n",
       "      <td>behr premium textur deckov</td>\n",
       "      <td>deck over\\tbehr premium textur deckov 1gal. #s...</td>\n",
       "      <td>2</td>\n",
       "      <td>12</td>\n",
       "      <td>...</td>\n",
       "      <td>0.008239</td>\n",
       "      <td>0.177215</td>\n",
       "      <td>0.017110</td>\n",
       "      <td>0.400000</td>\n",
       "      <td>0.342857</td>\n",
       "      <td>0.108253</td>\n",
       "      <td>0.000000</td>\n",
       "      <td>0.166298</td>\n",
       "      <td>0.577350</td>\n",
       "      <td>0.0</td>\n",
       "    </tr>\n",
       "    <tr>\n",
       "      <th>3</th>\n",
       "      <td>16</td>\n",
       "      <td>delta vero 1 handl shower onli faucet trim kit...</td>\n",
       "      <td>100005</td>\n",
       "      <td>2.33</td>\n",
       "      <td>rain shower head</td>\n",
       "      <td>updat your bathroom with the delta vero singl ...</td>\n",
       "      <td>delta</td>\n",
       "      <td>rain shower head\\tdelta vero 1 handl shower on...</td>\n",
       "      <td>3</td>\n",
       "      <td>14</td>\n",
       "      <td>...</td>\n",
       "      <td>0.000000</td>\n",
       "      <td>0.326087</td>\n",
       "      <td>0.043302</td>\n",
       "      <td>0.842105</td>\n",
       "      <td>0.095238</td>\n",
       "      <td>0.039103</td>\n",
       "      <td>0.154303</td>\n",
       "      <td>0.172825</td>\n",
       "      <td>0.866025</td>\n",
       "      <td>0.0</td>\n",
       "    </tr>\n",
       "    <tr>\n",
       "      <th>4</th>\n",
       "      <td>17</td>\n",
       "      <td>delta vero 1 handl shower onli faucet trim kit...</td>\n",
       "      <td>100005</td>\n",
       "      <td>2.67</td>\n",
       "      <td>shower onli faucet</td>\n",
       "      <td>updat your bathroom with the delta vero singl ...</td>\n",
       "      <td>delta</td>\n",
       "      <td>shower onli faucet\\tdelta vero 1 handl shower ...</td>\n",
       "      <td>3</td>\n",
       "      <td>14</td>\n",
       "      <td>...</td>\n",
       "      <td>0.000000</td>\n",
       "      <td>0.382979</td>\n",
       "      <td>0.048452</td>\n",
       "      <td>0.857143</td>\n",
       "      <td>0.260870</td>\n",
       "      <td>0.117309</td>\n",
       "      <td>0.462910</td>\n",
       "      <td>0.306719</td>\n",
       "      <td>0.866025</td>\n",
       "      <td>0.0</td>\n",
       "    </tr>\n",
       "  </tbody>\n",
       "</table>\n",
       "<p>5 rows × 34 columns</p>\n",
       "</div>"
      ],
      "text/plain": [
       "   id                                      product_title  product_uid  \\\n",
       "0   2                    simpson strong tie 12 gaug angl       100001   \n",
       "1   3                    simpson strong tie 12 gaug angl       100001   \n",
       "2   9  behr premium textur deckov 1gal. #sc 141 tugbo...       100002   \n",
       "3  16  delta vero 1 handl shower onli faucet trim kit...       100005   \n",
       "4  17  delta vero 1 handl shower onli faucet trim kit...       100005   \n",
       "\n",
       "   relevance         search_term  \\\n",
       "0       3.00        angl bracket   \n",
       "1       2.50           l bracket   \n",
       "2       3.00           deck over   \n",
       "3       2.33    rain shower head   \n",
       "4       2.67  shower onli faucet   \n",
       "\n",
       "                                 product_description  \\\n",
       "0  not onli do angl make joint stronger they also...   \n",
       "1  not onli do angl make joint stronger they also...   \n",
       "2  behr premium textur deckov is an innov solid c...   \n",
       "3  updat your bathroom with the delta vero singl ...   \n",
       "4  updat your bathroom with the delta vero singl ...   \n",
       "\n",
       "                        brand  \\\n",
       "0          simpson strong tie   \n",
       "1          simpson strong tie   \n",
       "2  behr premium textur deckov   \n",
       "3                       delta   \n",
       "4                       delta   \n",
       "\n",
       "                                        product_info  len_of_query  \\\n",
       "0  angl bracket\\tsimpson strong tie 12 gaug angl\\...             2   \n",
       "1  l bracket\\tsimpson strong tie 12 gaug angl\\tno...             2   \n",
       "2  deck over\\tbehr premium textur deckov 1gal. #s...             2   \n",
       "3  rain shower head\\tdelta vero 1 handl shower on...             3   \n",
       "4  shower onli faucet\\tdelta vero 1 handl shower ...             3   \n",
       "\n",
       "   len_of_title                ...                  \\\n",
       "0             6                ...                   \n",
       "1             6                ...                   \n",
       "2            12                ...                   \n",
       "3            14                ...                   \n",
       "4            14                ...                   \n",
       "\n",
       "   similarity_ratio_query_and_product_descrip  \\\n",
       "0                                    0.007712   \n",
       "1                                    0.007742   \n",
       "2                                    0.008239   \n",
       "3                                    0.000000   \n",
       "4                                    0.000000   \n",
       "\n",
       "   similarity_ratio_query_and_product_title  \\\n",
       "0                                  0.186047   \n",
       "1                                  0.050000   \n",
       "2                                  0.177215   \n",
       "3                                  0.326087   \n",
       "4                                  0.382979   \n",
       "\n",
       "   similarity_ratio_query_and_product_info  \\\n",
       "0                                 0.029162   \n",
       "1                                 0.022032   \n",
       "2                                 0.017110   \n",
       "3                                 0.043302   \n",
       "4                                 0.048452   \n",
       "\n",
       "   similarity_ratio_query_and_product_attr  similarity_ratio_query_and_brand  \\\n",
       "0                                 0.558140                          0.266667   \n",
       "1                                 0.486486                          0.222222   \n",
       "2                                 0.400000                          0.342857   \n",
       "3                                 0.842105                          0.095238   \n",
       "4                                 0.857143                          0.260870   \n",
       "\n",
       "   cosine_similarity_query_and_product_descrip  \\\n",
       "0                                     0.138972   \n",
       "1                                     0.000000   \n",
       "2                                     0.108253   \n",
       "3                                     0.039103   \n",
       "4                                     0.117309   \n",
       "\n",
       "   cosine_similarity_query_and_product_title  \\\n",
       "0                                   0.288675   \n",
       "1                                   0.000000   \n",
       "2                                   0.000000   \n",
       "3                                   0.154303   \n",
       "4                                   0.462910   \n",
       "\n",
       "   cosine_similarity_query_and_product_info  \\\n",
       "0                                  0.259645   \n",
       "1                                  0.087875   \n",
       "2                                  0.166298   \n",
       "3                                  0.172825   \n",
       "4                                  0.306719   \n",
       "\n",
       "   cosine_similarity_query_and_product_attr  cosine_similarity_query_and_brand  \n",
       "0                                  0.632456                                0.0  \n",
       "1                                  0.632456                                0.0  \n",
       "2                                  0.577350                                0.0  \n",
       "3                                  0.866025                                0.0  \n",
       "4                                  0.866025                                0.0  \n",
       "\n",
       "[5 rows x 34 columns]"
      ]
     },
     "execution_count": 22,
     "metadata": {},
     "output_type": "execute_result"
    }
   ],
   "source": [
    "df_all.head()"
   ]
  },
  {
   "cell_type": "code",
   "execution_count": 23,
   "metadata": {
    "collapsed": true
   },
   "outputs": [],
   "source": [
    "df_train = pd.read_csv('train.csv', encoding=\"ISO-8859-1\")"
   ]
  },
  {
   "cell_type": "code",
   "execution_count": 24,
   "metadata": {
    "collapsed": false
   },
   "outputs": [],
   "source": [
    "num_train = df_train.shape[0]\n",
    "train_x = df_all.iloc[:num_train,8:]\n",
    "test_x  = df_all.iloc[num_train:,8:]"
   ]
  },
  {
   "cell_type": "code",
   "execution_count": 25,
   "metadata": {
    "collapsed": true
   },
   "outputs": [],
   "source": [
    "# Normalisation of features before learning\n",
    "train_x = normalisation(train_x).values\n",
    "train_y = df_all['relevance'][:num_train].values\n",
    "test_x = normalisation(test_x).values"
   ]
  },
  {
   "cell_type": "code",
   "execution_count": 26,
   "metadata": {
    "collapsed": false
   },
   "outputs": [
    {
     "name": "stdout",
     "output_type": "stream",
     "text": [
      "(74067, 26)\n",
      "(74067,)\n"
     ]
    },
    {
     "data": {
      "text/html": [
       "<div>\n",
       "<table border=\"1\" class=\"dataframe\">\n",
       "  <thead>\n",
       "    <tr style=\"text-align: right;\">\n",
       "      <th></th>\n",
       "      <th>0</th>\n",
       "      <th>1</th>\n",
       "      <th>2</th>\n",
       "      <th>3</th>\n",
       "      <th>4</th>\n",
       "      <th>5</th>\n",
       "      <th>6</th>\n",
       "      <th>7</th>\n",
       "      <th>8</th>\n",
       "      <th>9</th>\n",
       "      <th>...</th>\n",
       "      <th>16</th>\n",
       "      <th>17</th>\n",
       "      <th>18</th>\n",
       "      <th>19</th>\n",
       "      <th>20</th>\n",
       "      <th>21</th>\n",
       "      <th>22</th>\n",
       "      <th>23</th>\n",
       "      <th>24</th>\n",
       "      <th>25</th>\n",
       "    </tr>\n",
       "  </thead>\n",
       "  <tbody>\n",
       "    <tr>\n",
       "      <th>0</th>\n",
       "      <td>0.090909</td>\n",
       "      <td>0.178571</td>\n",
       "      <td>0.130536</td>\n",
       "      <td>0.4</td>\n",
       "      <td>0.0</td>\n",
       "      <td>0.0</td>\n",
       "      <td>0.0</td>\n",
       "      <td>0.0</td>\n",
       "      <td>0.090909</td>\n",
       "      <td>0.090909</td>\n",
       "      <td>...</td>\n",
       "      <td>0.026135</td>\n",
       "      <td>0.186047</td>\n",
       "      <td>0.107810</td>\n",
       "      <td>0.486123</td>\n",
       "      <td>0.266667</td>\n",
       "      <td>0.178302</td>\n",
       "      <td>0.288675</td>\n",
       "      <td>0.287122</td>\n",
       "      <td>0.409126</td>\n",
       "      <td>0.0</td>\n",
       "    </tr>\n",
       "    <tr>\n",
       "      <th>1</th>\n",
       "      <td>0.090909</td>\n",
       "      <td>0.178571</td>\n",
       "      <td>0.130536</td>\n",
       "      <td>0.4</td>\n",
       "      <td>0.0</td>\n",
       "      <td>0.0</td>\n",
       "      <td>0.0</td>\n",
       "      <td>0.0</td>\n",
       "      <td>0.090909</td>\n",
       "      <td>0.090909</td>\n",
       "      <td>...</td>\n",
       "      <td>0.026237</td>\n",
       "      <td>0.050000</td>\n",
       "      <td>0.079683</td>\n",
       "      <td>0.397146</td>\n",
       "      <td>0.222222</td>\n",
       "      <td>0.000000</td>\n",
       "      <td>0.000000</td>\n",
       "      <td>0.086785</td>\n",
       "      <td>0.409126</td>\n",
       "      <td>0.0</td>\n",
       "    </tr>\n",
       "    <tr>\n",
       "      <th>2</th>\n",
       "      <td>0.090909</td>\n",
       "      <td>0.392857</td>\n",
       "      <td>0.170163</td>\n",
       "      <td>0.6</td>\n",
       "      <td>0.0</td>\n",
       "      <td>0.0</td>\n",
       "      <td>0.0</td>\n",
       "      <td>0.0</td>\n",
       "      <td>0.090909</td>\n",
       "      <td>0.090909</td>\n",
       "      <td>...</td>\n",
       "      <td>0.027921</td>\n",
       "      <td>0.177215</td>\n",
       "      <td>0.060268</td>\n",
       "      <td>0.289749</td>\n",
       "      <td>0.342857</td>\n",
       "      <td>0.138889</td>\n",
       "      <td>0.000000</td>\n",
       "      <td>0.178250</td>\n",
       "      <td>0.320538</td>\n",
       "      <td>0.0</td>\n",
       "    </tr>\n",
       "    <tr>\n",
       "      <th>3</th>\n",
       "      <td>0.181818</td>\n",
       "      <td>0.464286</td>\n",
       "      <td>0.100233</td>\n",
       "      <td>0.0</td>\n",
       "      <td>0.0</td>\n",
       "      <td>0.0</td>\n",
       "      <td>0.0</td>\n",
       "      <td>0.0</td>\n",
       "      <td>0.090909</td>\n",
       "      <td>0.090909</td>\n",
       "      <td>...</td>\n",
       "      <td>0.000000</td>\n",
       "      <td>0.326087</td>\n",
       "      <td>0.163593</td>\n",
       "      <td>0.838746</td>\n",
       "      <td>0.095238</td>\n",
       "      <td>0.050169</td>\n",
       "      <td>0.154303</td>\n",
       "      <td>0.185863</td>\n",
       "      <td>0.784619</td>\n",
       "      <td>0.0</td>\n",
       "    </tr>\n",
       "    <tr>\n",
       "      <th>4</th>\n",
       "      <td>0.181818</td>\n",
       "      <td>0.464286</td>\n",
       "      <td>0.100233</td>\n",
       "      <td>0.0</td>\n",
       "      <td>0.5</td>\n",
       "      <td>0.0</td>\n",
       "      <td>1.0</td>\n",
       "      <td>1.0</td>\n",
       "      <td>0.272727</td>\n",
       "      <td>0.272727</td>\n",
       "      <td>...</td>\n",
       "      <td>0.000000</td>\n",
       "      <td>0.382979</td>\n",
       "      <td>0.183912</td>\n",
       "      <td>0.857419</td>\n",
       "      <td>0.260870</td>\n",
       "      <td>0.150508</td>\n",
       "      <td>0.462910</td>\n",
       "      <td>0.342024</td>\n",
       "      <td>0.784619</td>\n",
       "      <td>0.0</td>\n",
       "    </tr>\n",
       "  </tbody>\n",
       "</table>\n",
       "<p>5 rows × 26 columns</p>\n",
       "</div>"
      ],
      "text/plain": [
       "         0         1         2    3    4    5    6    7         8         9   \\\n",
       "0  0.090909  0.178571  0.130536  0.4  0.0  0.0  0.0  0.0  0.090909  0.090909   \n",
       "1  0.090909  0.178571  0.130536  0.4  0.0  0.0  0.0  0.0  0.090909  0.090909   \n",
       "2  0.090909  0.392857  0.170163  0.6  0.0  0.0  0.0  0.0  0.090909  0.090909   \n",
       "3  0.181818  0.464286  0.100233  0.0  0.0  0.0  0.0  0.0  0.090909  0.090909   \n",
       "4  0.181818  0.464286  0.100233  0.0  0.5  0.0  1.0  1.0  0.272727  0.272727   \n",
       "\n",
       "  ...         16        17        18        19        20        21        22  \\\n",
       "0 ...   0.026135  0.186047  0.107810  0.486123  0.266667  0.178302  0.288675   \n",
       "1 ...   0.026237  0.050000  0.079683  0.397146  0.222222  0.000000  0.000000   \n",
       "2 ...   0.027921  0.177215  0.060268  0.289749  0.342857  0.138889  0.000000   \n",
       "3 ...   0.000000  0.326087  0.163593  0.838746  0.095238  0.050169  0.154303   \n",
       "4 ...   0.000000  0.382979  0.183912  0.857419  0.260870  0.150508  0.462910   \n",
       "\n",
       "         23        24   25  \n",
       "0  0.287122  0.409126  0.0  \n",
       "1  0.086785  0.409126  0.0  \n",
       "2  0.178250  0.320538  0.0  \n",
       "3  0.185863  0.784619  0.0  \n",
       "4  0.342024  0.784619  0.0  \n",
       "\n",
       "[5 rows x 26 columns]"
      ]
     },
     "execution_count": 26,
     "metadata": {},
     "output_type": "execute_result"
    }
   ],
   "source": [
    "print(train_x.shape)\n",
    "print(train_y.shape)\n",
    "pd.DataFrame(train_x).head(5)"
   ]
  },
  {
   "cell_type": "code",
   "execution_count": 27,
   "metadata": {
    "collapsed": false
   },
   "outputs": [
    {
     "name": "stdout",
     "output_type": "stream",
     "text": [
      "(166693, 26)\n"
     ]
    },
    {
     "data": {
      "text/html": [
       "<div>\n",
       "<table border=\"1\" class=\"dataframe\">\n",
       "  <thead>\n",
       "    <tr style=\"text-align: right;\">\n",
       "      <th></th>\n",
       "      <th>0</th>\n",
       "      <th>1</th>\n",
       "      <th>2</th>\n",
       "      <th>3</th>\n",
       "      <th>4</th>\n",
       "      <th>5</th>\n",
       "      <th>6</th>\n",
       "      <th>7</th>\n",
       "      <th>8</th>\n",
       "      <th>9</th>\n",
       "      <th>...</th>\n",
       "      <th>16</th>\n",
       "      <th>17</th>\n",
       "      <th>18</th>\n",
       "      <th>19</th>\n",
       "      <th>20</th>\n",
       "      <th>21</th>\n",
       "      <th>22</th>\n",
       "      <th>23</th>\n",
       "      <th>24</th>\n",
       "      <th>25</th>\n",
       "    </tr>\n",
       "  </thead>\n",
       "  <tbody>\n",
       "    <tr>\n",
       "      <th>0</th>\n",
       "      <td>0.090909</td>\n",
       "      <td>0.172414</td>\n",
       "      <td>0.146448</td>\n",
       "      <td>0.4</td>\n",
       "      <td>0.000000</td>\n",
       "      <td>0.000000</td>\n",
       "      <td>0.0</td>\n",
       "      <td>0.0</td>\n",
       "      <td>0.000000</td>\n",
       "      <td>0.000000</td>\n",
       "      <td>...</td>\n",
       "      <td>0.030594</td>\n",
       "      <td>0.177778</td>\n",
       "      <td>0.097341</td>\n",
       "      <td>0.565919</td>\n",
       "      <td>0.062500</td>\n",
       "      <td>0.000000</td>\n",
       "      <td>0.000000</td>\n",
       "      <td>0.092439</td>\n",
       "      <td>0.409126</td>\n",
       "      <td>0.000000</td>\n",
       "    </tr>\n",
       "    <tr>\n",
       "      <th>1</th>\n",
       "      <td>0.181818</td>\n",
       "      <td>0.172414</td>\n",
       "      <td>0.146448</td>\n",
       "      <td>0.4</td>\n",
       "      <td>0.000000</td>\n",
       "      <td>0.000000</td>\n",
       "      <td>0.0</td>\n",
       "      <td>0.0</td>\n",
       "      <td>0.090909</td>\n",
       "      <td>0.090909</td>\n",
       "      <td>...</td>\n",
       "      <td>0.018333</td>\n",
       "      <td>0.173913</td>\n",
       "      <td>0.104197</td>\n",
       "      <td>0.584957</td>\n",
       "      <td>0.121212</td>\n",
       "      <td>0.000000</td>\n",
       "      <td>0.000000</td>\n",
       "      <td>0.116202</td>\n",
       "      <td>0.529137</td>\n",
       "      <td>0.000000</td>\n",
       "    </tr>\n",
       "    <tr>\n",
       "      <th>2</th>\n",
       "      <td>0.181818</td>\n",
       "      <td>0.172414</td>\n",
       "      <td>0.146448</td>\n",
       "      <td>0.4</td>\n",
       "      <td>0.000000</td>\n",
       "      <td>0.000000</td>\n",
       "      <td>0.0</td>\n",
       "      <td>0.0</td>\n",
       "      <td>0.090909</td>\n",
       "      <td>0.090909</td>\n",
       "      <td>...</td>\n",
       "      <td>0.012222</td>\n",
       "      <td>0.565217</td>\n",
       "      <td>0.104197</td>\n",
       "      <td>0.584957</td>\n",
       "      <td>0.606061</td>\n",
       "      <td>0.051270</td>\n",
       "      <td>0.235702</td>\n",
       "      <td>0.201621</td>\n",
       "      <td>0.704995</td>\n",
       "      <td>0.333333</td>\n",
       "    </tr>\n",
       "    <tr>\n",
       "      <th>3</th>\n",
       "      <td>0.181818</td>\n",
       "      <td>0.172414</td>\n",
       "      <td>0.146448</td>\n",
       "      <td>0.4</td>\n",
       "      <td>0.111111</td>\n",
       "      <td>0.004673</td>\n",
       "      <td>1.0</td>\n",
       "      <td>1.0</td>\n",
       "      <td>0.272727</td>\n",
       "      <td>0.272727</td>\n",
       "      <td>...</td>\n",
       "      <td>0.000000</td>\n",
       "      <td>0.734694</td>\n",
       "      <td>0.124568</td>\n",
       "      <td>0.633763</td>\n",
       "      <td>1.000000</td>\n",
       "      <td>0.205078</td>\n",
       "      <td>0.707107</td>\n",
       "      <td>0.409697</td>\n",
       "      <td>1.000000</td>\n",
       "      <td>1.000000</td>\n",
       "    </tr>\n",
       "    <tr>\n",
       "      <th>4</th>\n",
       "      <td>0.363636</td>\n",
       "      <td>0.172414</td>\n",
       "      <td>0.146448</td>\n",
       "      <td>0.4</td>\n",
       "      <td>0.000000</td>\n",
       "      <td>0.000000</td>\n",
       "      <td>0.0</td>\n",
       "      <td>0.0</td>\n",
       "      <td>0.272727</td>\n",
       "      <td>0.272727</td>\n",
       "      <td>...</td>\n",
       "      <td>0.000000</td>\n",
       "      <td>0.701754</td>\n",
       "      <td>0.177485</td>\n",
       "      <td>0.723586</td>\n",
       "      <td>0.818182</td>\n",
       "      <td>0.158853</td>\n",
       "      <td>0.547723</td>\n",
       "      <td>0.378373</td>\n",
       "      <td>0.929559</td>\n",
       "      <td>0.774597</td>\n",
       "    </tr>\n",
       "  </tbody>\n",
       "</table>\n",
       "<p>5 rows × 26 columns</p>\n",
       "</div>"
      ],
      "text/plain": [
       "         0         1         2    3         4         5    6    7         8   \\\n",
       "0  0.090909  0.172414  0.146448  0.4  0.000000  0.000000  0.0  0.0  0.000000   \n",
       "1  0.181818  0.172414  0.146448  0.4  0.000000  0.000000  0.0  0.0  0.090909   \n",
       "2  0.181818  0.172414  0.146448  0.4  0.000000  0.000000  0.0  0.0  0.090909   \n",
       "3  0.181818  0.172414  0.146448  0.4  0.111111  0.004673  1.0  1.0  0.272727   \n",
       "4  0.363636  0.172414  0.146448  0.4  0.000000  0.000000  0.0  0.0  0.272727   \n",
       "\n",
       "         9     ...           16        17        18        19        20  \\\n",
       "0  0.000000    ...     0.030594  0.177778  0.097341  0.565919  0.062500   \n",
       "1  0.090909    ...     0.018333  0.173913  0.104197  0.584957  0.121212   \n",
       "2  0.090909    ...     0.012222  0.565217  0.104197  0.584957  0.606061   \n",
       "3  0.272727    ...     0.000000  0.734694  0.124568  0.633763  1.000000   \n",
       "4  0.272727    ...     0.000000  0.701754  0.177485  0.723586  0.818182   \n",
       "\n",
       "         21        22        23        24        25  \n",
       "0  0.000000  0.000000  0.092439  0.409126  0.000000  \n",
       "1  0.000000  0.000000  0.116202  0.529137  0.000000  \n",
       "2  0.051270  0.235702  0.201621  0.704995  0.333333  \n",
       "3  0.205078  0.707107  0.409697  1.000000  1.000000  \n",
       "4  0.158853  0.547723  0.378373  0.929559  0.774597  \n",
       "\n",
       "[5 rows x 26 columns]"
      ]
     },
     "execution_count": 27,
     "metadata": {},
     "output_type": "execute_result"
    }
   ],
   "source": [
    "print(test_x.shape)\n",
    "pd.DataFrame(test_x).head(5)"
   ]
  },
  {
   "cell_type": "code",
   "execution_count": 28,
   "metadata": {
    "collapsed": true
   },
   "outputs": [],
   "source": [
    "df_all.to_csv('df_all_all.csv')"
   ]
  },
  {
   "cell_type": "markdown",
   "metadata": {},
   "source": [
    "### Models"
   ]
  },
  {
   "cell_type": "code",
   "execution_count": 31,
   "metadata": {
    "collapsed": false
   },
   "outputs": [],
   "source": [
    "# Xgboost model\n",
    "model_xgb = xgb.XGBRegressor(n_estimators=500, max_depth=10, learning_rate=0.1).fit(train_x, train_y)\n",
    "test_y_xgb = model_xgb.predict(test_x)\n",
    "create_result(test_y_xgb, 'xgboost.csv')"
   ]
  },
  {
   "cell_type": "code",
   "execution_count": 32,
   "metadata": {
    "collapsed": true
   },
   "outputs": [],
   "source": [
    "# Random forest model\n",
    "model_rf = RandomForestRegressor(n_estimators=10).fit(train_x, train_y)\n",
    "test_y_rf = model_rf.predict(test_x)\n",
    "create_result(test_y_rf, 'rand_forest.csv')"
   ]
  },
  {
   "cell_type": "code",
   "execution_count": 33,
   "metadata": {
    "collapsed": true
   },
   "outputs": [],
   "source": [
    "# Gradient boost model\n",
    "model_grad_boost = GradientBoostingRegressor(random_state=0, loss='ls').fit(train_x, train_y)\n",
    "test_y_grad_boost = model_grad_boost.predict(test_x)\n",
    "create_result(test_y_grad_boost, 'grad_boost.csv')"
   ]
  },
  {
   "cell_type": "code",
   "execution_count": 34,
   "metadata": {
    "collapsed": true
   },
   "outputs": [],
   "source": [
    "# KNN model\n",
    "model_knn = KNeighborsRegressor().fit(train_x, train_y)\n",
    "test_y_knn = model_knn.predict(test_x)\n",
    "create_result(test_y_knn, 'knn.csv')"
   ]
  },
  {
   "cell_type": "code",
   "execution_count": 35,
   "metadata": {
    "collapsed": true
   },
   "outputs": [],
   "source": [
    "# SVM model\n",
    "model_svm = SVR(C=1, epsilon=0.2).fit(train_x, train_y)\n",
    "test_y_svm = model_svm.predict(test_x)\n",
    "create_result(test_y_svm, 'svm.csv')"
   ]
  },
  {
   "cell_type": "code",
   "execution_count": null,
   "metadata": {
    "collapsed": true
   },
   "outputs": [],
   "source": []
  }
 ],
 "metadata": {
  "kernelspec": {
   "display_name": "Python [conda root]",
   "language": "python",
   "name": "conda-root-py"
  },
  "language_info": {
   "codemirror_mode": {
    "name": "ipython",
    "version": 3
   },
   "file_extension": ".py",
   "mimetype": "text/x-python",
   "name": "python",
   "nbconvert_exporter": "python",
   "pygments_lexer": "ipython3",
   "version": "3.5.2"
  }
 },
 "nbformat": 4,
 "nbformat_minor": 1
}
